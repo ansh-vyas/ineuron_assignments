{
 "cells": [
  {
   "cell_type": "markdown",
   "id": "7ea667ee-a0d0-4c9f-8b58-a843d4bc8226",
   "metadata": {},
   "source": [
    "Q1. Create one variable containing following type of data:\n",
    "(i) string\n",
    "(ii) list\n",
    "(iii) float\n",
    "(iv) tuple\n",
    "\n",
    "ANSWER:-"
   ]
  },
  {
   "cell_type": "code",
   "execution_count": 1,
   "id": "fc578363-1e60-4bf1-b7d5-fea5df0b8f1f",
   "metadata": {},
   "outputs": [
    {
     "name": "stdout",
     "output_type": "stream",
     "text": [
      "<class 'str'>\n",
      "<class 'list'>\n",
      "<class 'float'>\n",
      "<class 'tuple'>\n"
     ]
    }
   ],
   "source": [
    "#string type variable\n",
    "astr = \"this is a string\"\n",
    "\n",
    "#list type variable\n",
    "alist = ['ansh', 1, 'inueron', 15.36]\n",
    "\n",
    "#float type variable\n",
    "afloat = 56.25\n",
    "\n",
    "#tuple type variable\n",
    "atupl = ('ansh', 1, 'inueron', 15.36)\n",
    "\n",
    "\n",
    "\n",
    "\n",
    "\n",
    "#let's check if type is correct\n",
    "print(type(astr))\n",
    "print(type(alist))\n",
    "print(type(afloat))\n",
    "print(type(atupl))"
   ]
  }
 ],
 "metadata": {
  "kernelspec": {
   "display_name": "Python 3 (ipykernel)",
   "language": "python",
   "name": "python3"
  },
  "language_info": {
   "codemirror_mode": {
    "name": "ipython",
    "version": 3
   },
   "file_extension": ".py",
   "mimetype": "text/x-python",
   "name": "python",
   "nbconvert_exporter": "python",
   "pygments_lexer": "ipython3",
   "version": "3.10.8"
  }
 },
 "nbformat": 4,
 "nbformat_minor": 5
}
