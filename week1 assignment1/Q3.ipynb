{
 "cells": [
  {
   "cell_type": "markdown",
   "id": "1de9ed1a-521d-4c95-ac35-9076a993d6a0",
   "metadata": {},
   "source": [
    "Q3. Explain the use of the following operators using an example:\n",
    "(i) /\n",
    "(ii) %\n",
    "(iii) //\n",
    "(iv) **\n",
    "\n",
    "ANSWER:-"
   ]
  },
  {
   "cell_type": "markdown",
   "id": "8951901a-d0a1-47f4-8d6f-4014c3dff203",
   "metadata": {},
   "source": [
    "explain:-\n",
    "\n",
    "ye sbhi oparators python me arithmetic oparators ke rup me use kiye jate hai\n",
    "\n",
    "(i) / division oparator hai iska use quotient find krne ke liye kiya jata hai. ye float me answer return krta hai. example new cell me hai\n",
    "\n",
    "(ii) % modulus oparator hai iska use divide krne par remainder find krne ke liye kiya jata hai. example new cell me hai\n",
    "\n",
    "(iii) // floor division oparator hai iska use divide krne par remainder ka floor find krne ke liye kiya jata hai. example new cell me hai\n",
    "\n",
    "(iv) ** exponentiation oparator hai iska use power(power on first oparand by second) ke rup me kiya jata hai. example new cell me hai"
   ]
  },
  {
   "cell_type": "code",
   "execution_count": 1,
   "id": "990fb5a6-e243-407e-8303-1535daf38239",
   "metadata": {},
   "outputs": [
    {
     "name": "stdout",
     "output_type": "stream",
     "text": [
      "5.0\n",
      "2\n",
      "3\n",
      "10000\n"
     ]
    }
   ],
   "source": [
    "#examples\n",
    "\n",
    "a = 10/2\n",
    "print(a)\n",
    "\n",
    "b = 10 % 4\n",
    "print(b)\n",
    "\n",
    "c = 15 // 4\n",
    "print(c)\n",
    "\n",
    "d = 10 ** 4\n",
    "print(d)"
   ]
  },
  {
   "cell_type": "code",
   "execution_count": null,
   "id": "61f22662-8a5c-4dbc-a2fa-f14fc677511d",
   "metadata": {},
   "outputs": [],
   "source": []
  }
 ],
 "metadata": {
  "kernelspec": {
   "display_name": "Python 3 (ipykernel)",
   "language": "python",
   "name": "python3"
  },
  "language_info": {
   "codemirror_mode": {
    "name": "ipython",
    "version": 3
   },
   "file_extension": ".py",
   "mimetype": "text/x-python",
   "name": "python",
   "nbconvert_exporter": "python",
   "pygments_lexer": "ipython3",
   "version": "3.10.8"
  }
 },
 "nbformat": 4,
 "nbformat_minor": 5
}
