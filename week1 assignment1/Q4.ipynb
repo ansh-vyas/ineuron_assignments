{
 "cells": [
  {
   "cell_type": "markdown",
   "id": "933c6ed6-dd4a-4727-9dc1-cd2b76624d0d",
   "metadata": {},
   "source": [
    "Q4. Create a list of length 10 of your choice containing multiple types of data. Using for loop print the\n",
    "element and its data type.\n",
    "\n",
    "ANSWER:-"
   ]
  },
  {
   "cell_type": "code",
   "execution_count": 1,
   "id": "d0c3e100-ed09-40f0-aab7-f4cae3aa7023",
   "metadata": {},
   "outputs": [
    {
     "name": "stdout",
     "output_type": "stream",
     "text": [
      "element is ansh  and its datatype is  <class 'str'>\n",
      "element is 14  and its datatype is  <class 'int'>\n",
      "element is 15.6  and its datatype is  <class 'float'>\n",
      "element is True  and its datatype is  <class 'bool'>\n",
      "element is [1, 2, 3]  and its datatype is  <class 'list'>\n",
      "element is (1, 2, 3)  and its datatype is  <class 'tuple'>\n",
      "element is {'name': 'ansh vyas'}  and its datatype is  <class 'dict'>\n"
     ]
    }
   ],
   "source": [
    "# Create a list of length 10 with multiple types of data\n",
    "list1 = [\"ansh\", 14, 15.6, True, [1,2,3], (1,2,3), {\"name\": \"ansh vyas\"}]\n",
    "\n",
    "# Use a for loop to print the element and its data type\n",
    "for i in list1:\n",
    "    print(\"element is\", i, \" and its datatype is \" ,type(i))"
   ]
  },
  {
   "cell_type": "code",
   "execution_count": null,
   "id": "f9c832fc-873e-45d9-8923-2926e9eec953",
   "metadata": {},
   "outputs": [],
   "source": []
  }
 ],
 "metadata": {
  "kernelspec": {
   "display_name": "Python 3 (ipykernel)",
   "language": "python",
   "name": "python3"
  },
  "language_info": {
   "codemirror_mode": {
    "name": "ipython",
    "version": 3
   },
   "file_extension": ".py",
   "mimetype": "text/x-python",
   "name": "python",
   "nbconvert_exporter": "python",
   "pygments_lexer": "ipython3",
   "version": "3.10.8"
  }
 },
 "nbformat": 4,
 "nbformat_minor": 5
}
