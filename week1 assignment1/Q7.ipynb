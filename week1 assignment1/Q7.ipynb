{
 "cells": [
  {
   "cell_type": "markdown",
   "id": "b911baf1-63a2-46d4-a764-be19d7605519",
   "metadata": {},
   "source": [
    "Q7. What do you understand about mutable and immutable data types? Give examples for both showing\n",
    "this property.\n",
    "\n",
    "ANSWER:-"
   ]
  },
  {
   "cell_type": "markdown",
   "id": "ced73c73-63d4-4cdc-963b-3bc933b1dc2e",
   "metadata": {},
   "source": [
    "explaination\n",
    "\n",
    "mutable datatype:- ve datatype jo bina object ki identity ko affect kiye unki value ya data ko modify krna allow krte hai. \n",
    "examples in new cell.\n",
    "\n",
    "immutable datatype:- ve datatype jo bina object ki identity ko affect kiye unki value ya data ko modify krna allow nhi krte krte hai. \n",
    "examples in new cell."
   ]
  },
  {
   "cell_type": "code",
   "execution_count": 1,
   "id": "1e14755a-6287-44a2-a171-3a0003d5d798",
   "metadata": {},
   "outputs": [
    {
     "name": "stdout",
     "output_type": "stream",
     "text": [
      "[1, 2, 3]\n",
      "[10, 2, 3, 4]\n"
     ]
    }
   ],
   "source": [
    "my_list = [1, 2, 3]\n",
    "print(my_list)\n",
    "\n",
    "# Modify the list\n",
    "my_list.append(4)\n",
    "my_list[0] = 10\n",
    "print(my_list)"
   ]
  },
  {
   "cell_type": "code",
   "execution_count": 2,
   "id": "c311a9ef-06ea-4e09-ae14-cfa437319afc",
   "metadata": {},
   "outputs": [
    {
     "name": "stdout",
     "output_type": "stream",
     "text": [
      "hello\n"
     ]
    },
    {
     "ename": "TypeError",
     "evalue": "'str' object does not support item assignment",
     "output_type": "error",
     "traceback": [
      "\u001b[0;31m---------------------------------------------------------------------------\u001b[0m",
      "\u001b[0;31mTypeError\u001b[0m                                 Traceback (most recent call last)",
      "Cell \u001b[0;32mIn[2], line 5\u001b[0m\n\u001b[1;32m      2\u001b[0m \u001b[38;5;28mprint\u001b[39m(my_string)\n\u001b[1;32m      4\u001b[0m \u001b[38;5;66;03m# Modify the string\u001b[39;00m\n\u001b[0;32m----> 5\u001b[0m \u001b[43mmy_string\u001b[49m\u001b[43m[\u001b[49m\u001b[38;5;241;43m0\u001b[39;49m\u001b[43m]\u001b[49m \u001b[38;5;241m=\u001b[39m \u001b[38;5;124m\"\u001b[39m\u001b[38;5;124mH\u001b[39m\u001b[38;5;124m\"\u001b[39m \u001b[38;5;66;03m# TypeError: 'str' object does not support item assignment\u001b[39;00m\n",
      "\u001b[0;31mTypeError\u001b[0m: 'str' object does not support item assignment"
     ]
    }
   ],
   "source": [
    "my_string = \"hello\"\n",
    "print(my_string)\n",
    "\n",
    "# Modify the string\n",
    "my_string[0] = \"H\" # TypeError: 'str' object does not support item assignment"
   ]
  },
  {
   "cell_type": "code",
   "execution_count": null,
   "id": "18be2333-fb27-4bfb-95f1-48fe53071fba",
   "metadata": {},
   "outputs": [],
   "source": []
  }
 ],
 "metadata": {
  "kernelspec": {
   "display_name": "Python 3 (ipykernel)",
   "language": "python",
   "name": "python3"
  },
  "language_info": {
   "codemirror_mode": {
    "name": "ipython",
    "version": 3
   },
   "file_extension": ".py",
   "mimetype": "text/x-python",
   "name": "python",
   "nbconvert_exporter": "python",
   "pygments_lexer": "ipython3",
   "version": "3.10.8"
  }
 },
 "nbformat": 4,
 "nbformat_minor": 5
}
