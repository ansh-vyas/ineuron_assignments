{
 "cells": [
  {
   "cell_type": "markdown",
   "id": "ba7cfdaf-b88c-47f7-ae87-428178cc0f31",
   "metadata": {},
   "source": [
    "Q5. Using a while loop, verify if the number A is purely divisible by number B and if so then how many\n",
    "times it can be divisible.\n",
    "\n",
    "ANSWER:-"
   ]
  },
  {
   "cell_type": "code",
   "execution_count": 2,
   "id": "09890714-aea7-4aac-94a3-650809451978",
   "metadata": {},
   "outputs": [
    {
     "name": "stdout",
     "output_type": "stream",
     "text": [
      "a is purely divisible by b  2  times\n"
     ]
    }
   ],
   "source": [
    "a = 10\n",
    "b = 5\n",
    "times = 0\n",
    "\n",
    "while a % b == 0:\n",
    "    a = a//b\n",
    "    times = a\n",
    "    \n",
    "if times > 0:\n",
    "    print(\"a is purely divisible by b \", times, \" times\" )\n",
    "else:\n",
    "    print(\"a is not purely divisible by b\")\n",
    "    "
   ]
  },
  {
   "cell_type": "code",
   "execution_count": null,
   "id": "68b4701c-485a-4bb6-8f9d-c697e069e10d",
   "metadata": {},
   "outputs": [],
   "source": []
  }
 ],
 "metadata": {
  "kernelspec": {
   "display_name": "Python 3 (ipykernel)",
   "language": "python",
   "name": "python3"
  },
  "language_info": {
   "codemirror_mode": {
    "name": "ipython",
    "version": 3
   },
   "file_extension": ".py",
   "mimetype": "text/x-python",
   "name": "python",
   "nbconvert_exporter": "python",
   "pygments_lexer": "ipython3",
   "version": "3.10.8"
  }
 },
 "nbformat": 4,
 "nbformat_minor": 5
}
